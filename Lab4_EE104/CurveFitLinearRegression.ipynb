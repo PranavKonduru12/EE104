{
 "cells": [
  {
   "cell_type": "markdown",
   "metadata": {},
   "source": [
    "# Curve fit using Ridge  OR Linear Regression  method\n",
    "This will discuss some simple examples of using python libraries to fit data to a curve. The curve can be a straight line. In this case it is commonly called linear regression. It can be a higher order polynominal such as y=a0+a1*x+a2*x^2. these types are called polynominal curve fits. Last of all, the fit can be to any arbitrary function.\n",
    "\n",
    "The first thing is to get a number of libraries or packages included in our python run.\n",
    "\n",
    "As a reminder, all EE104 work is done using python3."
   ]
  },
  {
   "cell_type": "code",
   "execution_count": 2,
   "metadata": {},
   "outputs": [],
   "source": [
    "import numpy as np\n",
    "import scipy.optimize as opt\n",
    "import scipy.stats as st\n",
    "import math\n",
    "import matplotlib.pyplot as plt"
   ]
  },
  {
   "cell_type": "markdown",
   "metadata": {},
   "source": [
    "Create an X and Y vector for 100 points of a sin wave.\n",
    "\n",
    "This uses elaborations, and embedded for loops.\n"
   ]
  },
  {
   "cell_type": "code",
   "execution_count": 3,
   "metadata": {},
   "outputs": [],
   "source": [
    "x = np.linspace(-50,50,num=200)\n",
    "y = [ (v ** 4) + (3 * (v ** 3)) + (2 * (v ** 2))+ (v) + 2 for  v in x]"
   ]
  },
  {
   "cell_type": "markdown",
   "metadata": {},
   "source": [
    "Plot the sin wave to make sure it feels right.\n",
    "The Y should go from -1 to +1, and the x from 0 to 6+..."
   ]
  },
  {
   "cell_type": "code",
   "execution_count": 4,
   "metadata": {},
   "outputs": [
    {
     "data": {
      "image/png": "[encoded data removed]",
      "text/plain": [
       "<Figure size 432x288 with 1 Axes>"
      ]
     },
     "metadata": {
      "needs_background": "light"
     },
     "output_type": "display_data"
    }
   ],
   "source": [
    "plt.plot(x,y)\n",
    "plt.show()"
   ]
  },
  {
   "cell_type": "markdown",
   "metadata": {},
   "source": [
    "First, try and fit a straight line to the curve.  There are several packages that will do this, but we will use scipy.stats.linregress\n",
    "\n",
    "It is easy to use, and just requires an x and y list of data."
   ]
  },
  {
   "cell_type": "code",
   "execution_count": 5,
   "metadata": {},
   "outputs": [
    {
     "name": "stdout",
     "output_type": "stream",
     "text": [
      "LinregressResult(slope=4546.0746193277555, intercept=1276894.795205034, rvalue=0.07723719442665813, pvalue=0.2770027554229738, stderr=4170.404545532889, intercept_stderr=120992.6678142012)\n",
      "\n",
      "4546.0746193277555\n"
     ]
    }
   ],
   "source": [
    "linfit=st.linregress(x,y)\n",
    "print(linfit)\n",
    "print()\n",
    "print(linfit.slope)"
   ]
  },
  {
   "cell_type": "markdown",
   "metadata": {},
   "source": [
    "It provided a slope and intercept. These are members of a class, and can be accessed with the '.' notation. With these values, a plot can be made of the predicted value. Remember the shapes are not what is fit. The fit is to the data.  The day may and will typically have noise. The fit reduces the error terms as much as possible.\n",
    "\n",
    "You can plot two lines by calling plot() twice with before show()"
   ]
  },
  {
   "cell_type": "code",
   "execution_count": 6,
   "metadata": {},
   "outputs": [
    {
     "data": {
      "image/png": "[encoded data removed]",
      "text/plain": [
       "<Figure size 432x288 with 1 Axes>"
      ]
     },
     "metadata": {
      "needs_background": "light"
     },
     "output_type": "display_data"
    }
   ],
   "source": [
    "ypred = [ linfit.slope*xv+linfit.intercept for xv in x]\n",
    "plt.plot(x,y,'b-')\n",
    "plt.plot(x,ypred,'g-')\n",
    "plt.show()"
   ]
  },
  {
   "cell_type": "markdown",
   "metadata": {},
   "source": [
    "Just because we got an answer and the software doesn't give an error doesn't mean the fit is a 'good' one. The value R^2 indicates how well the data fits the line. An R^2 of 1 is a perfect fit, and 0 is no relationship.  Take a look at R^2:"
   ]
  },
  {
   "cell_type": "code",
   "execution_count": 7,
   "metadata": {},
   "outputs": [
    {
     "data": {
      "text/plain": [
       "0.0059655842029013905"
      ]
     },
     "execution_count": 7,
     "metadata": {},
     "output_type": "execute_result"
    }
   ],
   "source": [
    "linfit.rvalue **2"
   ]
  },
  {
   "cell_type": "markdown",
   "metadata": {},
   "source": [
    "It kinda fits, but isn't very useful for engineering work. "
   ]
  }
 ],
 "metadata": {
  "kernelspec": {
   "display_name": "Python 3 (ipykernel)",
   "language": "python",
   "name": "python3"
  },
  "language_info": {
   "codemirror_mode": {
    "name": "ipython",
    "version": 3
   },
   "file_extension": ".py",
   "mimetype": "text/x-python",
   "name": "python",
   "nbconvert_exporter": "python",
   "pygments_lexer": "ipython3",
   "version": "3.9.7"
  }
 },
 "nbformat": 4,
 "nbformat_minor": 2
}
