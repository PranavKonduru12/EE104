{
 "cells": [
  {
   "cell_type": "code",
   "execution_count": 1,
   "metadata": {},
   "outputs": [
    {
     "name": "stderr",
     "output_type": "stream",
     "text": [
      "W: Locale appears not set! please export LANG=\"en_US.UTF-8\" or equivalent, \n",
      "W: or ahkab's unicode support is broken.\n"
     ]
    }
   ],
   "source": [
    "import ahkab\n",
    "from ahkab import circuit, printing, time_functions\n",
    "\n",
    "mycircuit = circuit.Circuit(title=\"Butterworth Example circuit\")"
   ]
  },
  {
   "cell_type": "code",
   "execution_count": 2,
   "metadata": {},
   "outputs": [],
   "source": [
    "gnd = mycircuit.get_ground_node()"
   ]
  },
  {
   "cell_type": "code",
   "execution_count": 3,
   "metadata": {},
   "outputs": [],
   "source": [
    "mycircuit.add_resistor(\"R1\", n1=\"n1\", n2=\"n2\", value=600)\n",
    "mycircuit.add_inductor(\"L1\", n1=\"n2\", n2=\"n3\", value=15.24e-3)\n",
    "mycircuit.add_capacitor(\"C1\", n1=\"n3\", n2=gnd, value=119.37e-9)\n",
    "mycircuit.add_inductor(\"L2\", n1=\"n3\", n2=\"n4\", value=61.86e-3)\n",
    "mycircuit.add_capacitor(\"C2\", n1=\"n4\", n2=gnd, value=155.12e-9)\n",
    "mycircuit.add_resistor(\"R2\", n1=\"n4\", n2=gnd, value=1.2e3)"
   ]
  },
  {
   "cell_type": "code",
   "execution_count": 4,
   "metadata": {},
   "outputs": [],
   "source": [
    "voltage_step = time_functions.pulse(v1=0, v2=1, td=500e-9, tr=1e-12, pw=1, tf=1e-12, per=2)\n"
   ]
  },
  {
   "cell_type": "code",
   "execution_count": 5,
   "metadata": {},
   "outputs": [],
   "source": [
    "mycircuit.add_vsource(\"V1\", n1=\"n1\", n2=gnd, dc_value=5, ac_value=1, function=voltage_step)\n"
   ]
  },
  {
   "cell_type": "code",
   "execution_count": 6,
   "metadata": {},
   "outputs": [
    {
     "name": "stdout",
     "output_type": "stream",
     "text": [
      "* Butterworth Example circuit\n",
      "R1 n1 n2 600\n",
      "L1 n2 n3 0.01524\n",
      "C1 n3 0 1.1937e-07\n",
      "L2 n3 n4 0.06186\n",
      "C2 n4 0 1.5512e-07\n",
      "R2 n4 0 1200\n",
      "V1 n1 0 type=vdc value=5 vac=1 type=pulse v1=0 v2=1 td=5e-07 per=2 tr=1e-12 tf=1e-12 pw=1\n"
     ]
    }
   ],
   "source": [
    "print (mycircuit)"
   ]
  },
  {
   "cell_type": "code",
   "execution_count": 7,
   "metadata": {},
   "outputs": [],
   "source": [
    "op_analysis = ahkab.new_op()\n",
    "ac_analysis = ahkab.new_ac(start=1e3, stop=1e5, points=100)\n",
    "tran_analysis = ahkab.new_tran(tstart=0, tstop=1.2e-3, tstep=1e-6, x0=None)"
   ]
  },
  {
   "cell_type": "code",
   "execution_count": 8,
   "metadata": {},
   "outputs": [],
   "source": [
    "r = ahkab.run(mycircuit, an_list=[op_analysis, ac_analysis, tran_analysis])\n"
   ]
  },
  {
   "cell_type": "code",
   "execution_count": 9,
   "metadata": {},
   "outputs": [
    {
     "ename": "SyntaxError",
     "evalue": "invalid syntax (<ipython-input-9-7bd33a4252a0>, line 1)",
     "output_type": "error",
     "traceback": [
      "\u001b[1;36m  File \u001b[1;32m\"<ipython-input-9-7bd33a4252a0>\"\u001b[1;36m, line \u001b[1;32m1\u001b[0m\n\u001b[1;33m    python -i scriptACTRAN.py\u001b[0m\n\u001b[1;37m                         ^\u001b[0m\n\u001b[1;31mSyntaxError\u001b[0m\u001b[1;31m:\u001b[0m invalid syntax\n"
     ]
    }
   ],
   "source": []
  },
  {
   "cell_type": "code",
   "execution_count": 10,
   "metadata": {},
   "outputs": [
    {
     "data": {
      "text/plain": [
       "{'op': <ahkab.results.op_solution at 0x2966e359388>,\n",
       " 'ac': <ahkab.results.ac_solution at 0x296631207c8>,\n",
       " 'tran': <ahkab.results.tran_solution at 0x2966e34a848>}"
      ]
     },
     "execution_count": 10,
     "metadata": {},
     "output_type": "execute_result"
    }
   ],
   "source": [
    "r"
   ]
  },
  {
   "cell_type": "code",
   "execution_count": 12,
   "metadata": {},
   "outputs": [
    {
     "data": {
      "text/plain": [
       "<ahkab.results.case_insensitive_dict at 0x2966e359448>"
      ]
     },
     "execution_count": 12,
     "metadata": {},
     "output_type": "execute_result"
    }
   ],
   "source": [
    "r['op'].results"
   ]
  },
  {
   "cell_type": "code",
   "execution_count": 13,
   "metadata": {},
   "outputs": [
    {
     "data": {
      "text/plain": [
       "['VN1', 'VN2', 'VN3', 'VN4', 'I(L1)', 'I(L2)', 'I(V1)']"
      ]
     },
     "execution_count": 13,
     "metadata": {},
     "output_type": "execute_result"
    }
   ],
   "source": [
    "r['op'].keys()"
   ]
  },
  {
   "cell_type": "code",
   "execution_count": 14,
   "metadata": {},
   "outputs": [
    {
     "data": {
      "text/plain": [
       "array([[3.33333333]])"
      ]
     },
     "execution_count": 14,
     "metadata": {},
     "output_type": "execute_result"
    }
   ],
   "source": [
    "r['op']['VN4']"
   ]
  },
  {
   "cell_type": "code",
   "execution_count": 15,
   "metadata": {},
   "outputs": [
    {
     "data": {
      "text/plain": [
       "'The DC output voltage is [[3.33333333]] V'"
      ]
     },
     "execution_count": 15,
     "metadata": {},
     "output_type": "execute_result"
    }
   ],
   "source": [
    "\"The DC output voltage is %s %s\" % (r['op']['VN4'] , r['op'].units['VN4'])"
   ]
  },
  {
   "cell_type": "code",
   "execution_count": 16,
   "metadata": {},
   "outputs": [
    {
     "name": "stdout",
     "output_type": "stream",
     "text": [
      "<AC simulation results for 'Butterworth Example circuit' (netlist None). LOG sweep, from 1000 to 100000 rad/sec, 100 points. Run on 2020-08-15 21:20:07, data file C:\\Users\\CHRIS~1.PHA\\AppData\\Local\\Temp\\1\\tmp4gntfsdn.ac>\n"
     ]
    }
   ],
   "source": [
    "print(r['ac'])"
   ]
  },
  {
   "cell_type": "code",
   "execution_count": 17,
   "metadata": {},
   "outputs": [
    {
     "data": {
      "text/plain": [
       "['f', 'Vn1', 'Vn2', 'Vn3', 'Vn4', 'I(L1)', 'I(L2)', 'I(V1)']"
      ]
     },
     "execution_count": 17,
     "metadata": {},
     "output_type": "execute_result"
    }
   ],
   "source": [
    "r['ac'].keys()"
   ]
  },
  {
   "cell_type": "code",
   "execution_count": 32,
   "metadata": {},
   "outputs": [
    {
     "data": {
      "image/png": "[encoded data removed]",
      "text/plain": [
       "<Figure size 432x288 with 1 Axes>"
      ]
     },
     "metadata": {
      "needs_background": "light"
     },
     "output_type": "display_data"
    },
    {
     "data": {
      "image/png": "[encoded data removed]",
      "text/plain": [
       "<Figure size 432x288 with 2 Axes>"
      ]
     },
     "metadata": {
      "needs_background": "light"
     },
     "output_type": "display_data"
    }
   ],
   "source": [
    "import pylab as plt\n",
    "import numpy as np\n",
    "\n",
    "fig = plt.figure()\n",
    "plt.title(mycircuit.title + \" - TRAN Simulation\")\n",
    "plt.plot(r['tran']['T'], r['tran']['VN1'], label=\"Input voltage\")\n",
    "#plt.hold(True)\n",
    "plt.plot(r['tran']['T'], r['tran']['VN4'], label=\"output voltage\")\n",
    "plt.legend()\n",
    "#plt.hold(False)\n",
    "plt.grid(True)\n",
    "plt.ylim([0,1.2])\n",
    "plt.ylabel('Step response')\n",
    "plt.xlabel('Time [s]')\n",
    "fig.savefig('tran_plot.png')\n",
    "\n",
    "fig = plt.figure()\n",
    "plt.subplot(211)\n",
    "plt.semilogx(r['ac']['f'], np.abs(r['ac']['Vn4']), 'o-')\n",
    "plt.ylabel('abs(V(n4)) [V]')\n",
    "plt.title(mycircuit.title + \" - AC Simulation\")\n",
    "plt.subplot(212)\n",
    "plt.grid(True)\n",
    "plt.semilogx(r['ac']['f'], np.angle(r['ac']['Vn4']), 'o-')\n",
    "plt.xlabel('frequency')\n",
    "plt.ylabel('arg(V(n4)) [rad]')\n",
    "fig.savefig('ac_plot.png')\n",
    "plt.show()"
   ]
  },
  {
   "cell_type": "code",
   "execution_count": 27,
   "metadata": {},
   "outputs": [
    {
     "data": {
      "text/plain": [
       "array([  1000.        ,   1047.61575279,   1097.49876549,   1149.7569954 ,\n",
       "         1204.50354026,   1261.85688307,   1321.94114847,   1384.88637139,\n",
       "         1450.8287785 ,   1519.91108295,   1592.28279334,   1668.1005372 ,\n",
       "         1747.52840001,   1830.7382803 ,   1917.91026167,   2009.23300257,\n",
       "         2104.90414451,   2205.1307399 ,   2310.12970008,   2420.12826479,\n",
       "         2535.36449397,   2656.08778295,   2782.55940221,   2915.05306283,\n",
       "         3053.85550883,   3199.2671378 ,   3351.60265094,   3511.19173422,\n",
       "         3678.37977183,   3853.52859371,   4037.0172586 ,   4229.24287439,\n",
       "         4430.62145758,   4641.58883361,   4862.60158007,   5094.13801482,\n",
       "         5336.69923121,   5590.81018251,   5857.02081806,   6135.90727341,\n",
       "         6428.07311728,   6734.15065775,   7054.80231072,   7390.72203353,\n",
       "         7742.63682681,   8111.3083079 ,   8497.53435909,   8902.15085445,\n",
       "         9326.03346883,   9770.09957299,  10235.31021899,  10722.6722201 ,\n",
       "        11233.24032978,  11768.11952435,  12328.46739442,  12915.49665015,\n",
       "        13530.4777458 ,  14174.74162927,  14849.68262254,  15556.7614393 ,\n",
       "        16297.50834621,  17073.52647471,  17886.49529057,  18738.1742286 ,\n",
       "        19630.4065004 ,  20565.12308349,  21544.34690032,  22570.19719634,\n",
       "        23644.89412645,  24770.76355992,  25950.242114  ,  27185.88242733,\n",
       "        28480.35868436,  29836.47240283,  31257.15849688,  32745.49162878,\n",
       "        34304.69286315,  35938.13663805,  37649.35806792,  39442.06059438,\n",
       "        41320.12400115,  43287.61281083,  45348.78508129,  47508.10162103,\n",
       "        49770.23564332,  52140.08288   ,  54622.77217684,  57223.6765935 ,\n",
       "        59948.42503189,  62802.91441834,  65793.32246576,  68926.1210435 ,\n",
       "        72208.09018385,  75646.33275546,  79248.28983539,  83021.7568132 ,\n",
       "        86974.90026178,  91116.27561155,  95454.84566618, 100000.        ])"
      ]
     },
     "execution_count": 27,
     "metadata": {},
     "output_type": "execute_result"
    }
   ],
   "source": [
    "r['ac']['f']"
   ]
  },
  {
   "cell_type": "code",
   "execution_count": null,
   "metadata": {},
   "outputs": [],
   "source": []
  }
 ],
 "metadata": {
  "kernelspec": {
   "display_name": "Python 3",
   "language": "python",
   "name": "python3"
  },
  "language_info": {
   "codemirror_mode": {
    "name": "ipython",
    "version": 3
   },
   "file_extension": ".py",
   "mimetype": "text/x-python",
   "name": "python",
   "nbconvert_exporter": "python",
   "pygments_lexer": "ipython3",
   "version": "3.7.6"
  }
 },
 "nbformat": 4,
 "nbformat_minor": 4
}
