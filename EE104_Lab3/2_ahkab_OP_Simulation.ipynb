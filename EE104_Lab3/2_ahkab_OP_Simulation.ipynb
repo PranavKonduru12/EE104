{
 "cells": [
  {
   "cell_type": "code",
   "execution_count": 1,
   "metadata": {},
   "outputs": [
    {
     "name": "stdout",
     "output_type": "stream",
     "text": [
      "OP simulation results for 'Simple Example Circuit'.\n",
      "Run on 2022-03-07 04:21:47, data file /var/folders/s7/ls6t7l5j4411rl172s1tr7jr0000gn/T/tmp7yszgoqn.op.\n",
      "Variable    Units           Value         Error    %\n",
      "----------  -------  ------------  ------------  ---\n",
      "VN2         V         5            -5.00004e-12    0\n",
      "VN1         V         7.5          -7.50011e-12    0\n",
      "VN3         V         1.61487e-16   6.66134e-17   41\n",
      "VN4         V        20            -2.00001e-11    0\n",
      "I(V1)       A        -0.166667      0              0\n",
      "I(V2)       A        -0.25          0              0\n"
     ]
    }
   ],
   "source": [
    "import ahkab\n",
    "mycir = ahkab.Circuit('Simple Example Circuit')\n",
    "mycir.add_vsource('V1', 'n2', mycir.gnd, dc_value=5)\n",
    "mycir.add_resistor('R1', 'n1', 'n2', value=10)\n",
    "mycir.add_resistor('R2', 'n2', 'n3', value=20)\n",
    "mycir.add_resistor('R3', 'n2', mycir.gnd, value=30)\n",
    "mycir.add_resistor('R4', 'n3', mycir.gnd, value=40)\n",
    "mycir.add_resistor('R5', 'n1', 'n4', value=50)\n",
    "mycir.add_vsource('V2', 'n4', 'n3', dc_value=20)\n",
    "\n",
    "\n",
    "opa = ahkab.new_op()\n",
    "r = ahkab.run(mycir, opa)['op']\n",
    "\n",
    "print(r)\n"
   ]
  },
  {
   "cell_type": "code",
   "execution_count": null,
   "metadata": {},
   "outputs": [],
   "source": []
  }
 ],
 "metadata": {
  "kernelspec": {
   "display_name": "Python 3 (ipykernel)",
   "language": "python",
   "name": "python3"
  },
  "language_info": {
   "codemirror_mode": {
    "name": "ipython",
    "version": 3
   },
   "file_extension": ".py",
   "mimetype": "text/x-python",
   "name": "python",
   "nbconvert_exporter": "python",
   "pygments_lexer": "ipython3",
   "version": "3.9.7"
  }
 },
 "nbformat": 4,
 "nbformat_minor": 4
}
