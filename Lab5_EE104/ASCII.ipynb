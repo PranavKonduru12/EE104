{
 "cells": [
  {
   "cell_type": "code",
   "execution_count": 1,
   "id": "9e4db48a-41f6-4188-b3c9-92f4d3fef720",
   "metadata": {},
   "outputs": [
    {
     "name": "stdout",
     "output_type": "stream",
     "text": [
      "{'0': '\\x00', '1': '\\x01', '2': '\\x02', '3': '\\x03', '4': '\\x04', '5': '\\x05', '6': '\\x06', '7': '\\x07', '8': '\\x08', '9': '\\t', '10': '\\n', '11': '\\x0b', '12': '\\x0c', '13': '\\r', '14': '\\x0e', '15': '\\x0f', '16': '\\x10', '17': '\\x11', '18': '\\x12', '19': '\\x13', '20': '\\x14', '21': '\\x15', '22': '\\x16', '23': '\\x17', '24': '\\x18', '25': '\\x19', '26': '\\x1a', '27': '\\x1b', '28': '\\x1c', '29': '\\x1d', '30': '\\x1e', '31': '\\x1f', '32': ' ', '33': '!', '34': '\"', '35': '#', '36': '$', '37': '%', '38': '&', '39': \"'\", '40': '(', '41': ')', '42': '*', '43': '+', '44': ',', '45': '-', '46': '.', '47': '/', '48': '0', '49': '1', '50': '2', '51': '3', '52': '4', '53': '5', '54': '6', '55': '7', '56': '8', '57': '9', '58': ':', '59': ';', '60': '<', '61': '=', '62': '>', '63': '?', '64': '@', '65': 'A', '66': 'B', '67': 'C', '68': 'D', '69': 'E', '70': 'F', '71': 'G', '72': 'H', '73': 'I', '74': 'J', '75': 'K', '76': 'L', '77': 'M', '78': 'N', '79': 'O', '80': 'P', '81': 'Q', '82': 'R', '83': 'S', '84': 'T', '85': 'U', '86': 'V', '87': 'W', '88': 'X', '89': 'Y', '90': 'Z', '91': '[', '92': '\\\\', '93': ']', '94': '^', '95': '_', '96': '`', '97': 'a', '98': 'b', '99': 'c', '100': 'd', '101': 'e', '102': 'f', '103': 'g', '104': 'h', '105': 'i', '106': 'j', '107': 'k', '108': 'l', '109': 'm', '110': 'n', '111': 'o', '112': 'p', '113': 'q', '114': 'r', '115': 's', '116': 't', '117': 'u', '118': 'v', '119': 'w', '120': 'x', '121': 'y', '122': 'z', '123': '{', '124': '|', '125': '}', '126': '~', '127': '\\x7f', '128': '\\x80', '129': '\\x81', '130': '\\x82', '131': '\\x83', '132': '\\x84', '133': '\\x85', '134': '\\x86', '135': '\\x87', '136': '\\x88', '137': '\\x89', '138': '\\x8a', '139': '\\x8b', '140': '\\x8c', '141': '\\x8d', '142': '\\x8e', '143': '\\x8f', '144': '\\x90', '145': '\\x91', '146': '\\x92', '147': '\\x93', '148': '\\x94', '149': '\\x95', '150': '\\x96', '151': '\\x97', '152': '\\x98', '153': '\\x99', '154': '\\x9a', '155': '\\x9b', '156': '\\x9c', '157': '\\x9d', '158': '\\x9e', '159': '\\x9f', '160': '\\xa0', '161': '¡', '162': '¢', '163': '£', '164': '¤', '165': '¥', '166': '¦', '167': '§', '168': '¨', '169': '©', '170': 'ª', '171': '«', '172': '¬', '173': '\\xad', '174': '®', '175': '¯', '176': '°', '177': '±', '178': '²', '179': '³', '180': '´', '181': 'µ', '182': '¶', '183': '·', '184': '¸', '185': '¹', '186': 'º', '187': '»', '188': '¼', '189': '½', '190': '¾', '191': '¿', '192': 'À', '193': 'Á', '194': 'Â', '195': 'Ã', '196': 'Ä', '197': 'Å', '198': 'Æ', '199': 'Ç', '200': 'È', '201': 'É', '202': 'Ê', '203': 'Ë', '204': 'Ì', '205': 'Í', '206': 'Î', '207': 'Ï', '208': 'Ð', '209': 'Ñ', '210': 'Ò', '211': 'Ó', '212': 'Ô', '213': 'Õ', '214': 'Ö', '215': '×', '216': 'Ø', '217': 'Ù', '218': 'Ú', '219': 'Û', '220': 'Ü', '221': 'Ý', '222': 'Þ', '223': 'ß', '224': 'à', '225': 'á', '226': 'â', '227': 'ã', '228': 'ä', '229': 'å', '230': 'æ', '231': 'ç', '232': 'è', '233': 'é', '234': 'ê', '235': 'ë', '236': 'ì', '237': 'í', '238': 'î', '239': 'ï', '240': 'ð', '241': 'ñ', '242': 'ò', '243': 'ó', '244': 'ô', '245': 'õ', '246': 'ö', '247': '÷', '248': 'ø', '249': 'ù', '250': 'ú', '251': 'û', '252': 'ü', '253': 'ý', '254': 'þ', '255': 'ÿ'}\n"
     ]
    }
   ],
   "source": [
    "ascii_dict = dict()\n",
    "ascii_in_number = range(0,256)\n",
    "for i in ascii_in_number:\n",
    "    ascii_dict[str(i)] = chr(i)\n",
    "print(ascii_dict)"
   ]
  },
  {
   "cell_type": "code",
   "execution_count": 6,
   "id": "331603a9-32bf-4a83-a81a-607b82e8f1b2",
   "metadata": {},
   "outputs": [
    {
     "name": "stdout",
     "output_type": "stream",
     "text": [
      "The ASCII value of 'K' is 75\n"
     ]
    }
   ],
   "source": [
    "# Program to find the ASCII value of the given character\n",
    "c = 'K'\n",
    "print(\"The ASCII value of '\" + c + \"' is\", ord(c))"
   ]
  },
  {
   "cell_type": "code",
   "execution_count": 4,
   "id": "76f5c79b-23d3-4883-84f0-4a76048f174c",
   "metadata": {},
   "outputs": [
    {
     "data": {
      "text/plain": [
       "'A'"
      ]
     },
     "execution_count": 4,
     "metadata": {},
     "output_type": "execute_result"
    }
   ],
   "source": [
    "chr(65)"
   ]
  },
  {
   "cell_type": "code",
   "execution_count": 5,
   "id": "3065b0d0-9880-42d9-9571-59d90fb27be4",
   "metadata": {},
   "outputs": [
    {
     "data": {
      "text/plain": [
       "80"
      ]
     },
     "execution_count": 5,
     "metadata": {},
     "output_type": "execute_result"
    }
   ],
   "source": [
    "ord('P')"
   ]
  },
  {
   "cell_type": "code",
   "execution_count": 10,
   "id": "dea3a897-8ec7-443b-ba91-d5e9d88dd91b",
   "metadata": {},
   "outputs": [
    {
     "data": {
      "text/plain": [
       "97"
      ]
     },
     "execution_count": 10,
     "metadata": {},
     "output_type": "execute_result"
    }
   ],
   "source": [
    "ord('a')"
   ]
  },
  {
   "cell_type": "code",
   "execution_count": 9,
   "id": "8ddd7aa6-ed3a-49f9-b3c8-9eba4f02a088",
   "metadata": {},
   "outputs": [
    {
     "data": {
      "text/plain": [
       "49"
      ]
     },
     "execution_count": 9,
     "metadata": {},
     "output_type": "execute_result"
    }
   ],
   "source": [
    "ord('1')"
   ]
  },
  {
   "cell_type": "code",
   "execution_count": 6,
   "id": "c9e4d608-415c-48b3-8e27-f40cb7578174",
   "metadata": {},
   "outputs": [
    {
     "data": {
      "text/plain": [
       "'T'"
      ]
     },
     "execution_count": 6,
     "metadata": {},
     "output_type": "execute_result"
    }
   ],
   "source": [
    "chr(ord('S') + 1)"
   ]
  },
  {
   "cell_type": "code",
   "execution_count": 20,
   "id": "554275ff-159b-4cc6-b405-a9312d765d1b",
   "metadata": {},
   "outputs": [
    {
     "name": "stdin",
     "output_type": "stream",
     "text": [
      "Enter 2 alphanumeric Characters, i.e. A1, AB, XY, X2, etc.\n",
      " A1\n"
     ]
    },
    {
     "name": "stdout",
     "output_type": "stream",
     "text": [
      "A1\n",
      "The equivalent ASCII values in decimal are \n",
      "65\n",
      "49\n",
      "The lock sequence is 6549 to open the safe box\n"
     ]
    }
   ],
   "source": [
    "user_input = input('Enter 2 alphanumeric Characters, i.e. A1, AB, XY, X2, etc.\\n')\n",
    "print(user_input)\n",
    "print('The equivalent ASCII values in decimal are ')\n",
    "print(ord(user_input[0]))\n",
    "print(ord(user_input[1]))\n",
    "print(\"The lock sequence is {0}{1} to open the safe box.\".format(ord(user_input[0]), ord(user_input[1])))"
   ]
  },
  {
   "cell_type": "code",
   "execution_count": null,
   "id": "46125582-43fb-40bb-90d7-7bcd5b04c29b",
   "metadata": {},
   "outputs": [],
   "source": []
  }
 ],
 "metadata": {
  "kernelspec": {
   "display_name": "Python 3 (ipykernel)",
   "language": "python",
   "name": "python3"
  },
  "language_info": {
   "codemirror_mode": {
    "name": "ipython",
    "version": 3
   },
   "file_extension": ".py",
   "mimetype": "text/x-python",
   "name": "python",
   "nbconvert_exporter": "python",
   "pygments_lexer": "ipython3",
   "version": "3.9.11"
  }
 },
 "nbformat": 4,
 "nbformat_minor": 5
}
